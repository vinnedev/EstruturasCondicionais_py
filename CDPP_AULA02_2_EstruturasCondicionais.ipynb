{
  "nbformat": 4,
  "nbformat_minor": 0,
  "metadata": {
    "colab": {
      "provenance": []
    },
    "kernelspec": {
      "name": "python3",
      "display_name": "Python 3"
    },
    "language_info": {
      "name": "python"
    }
  },
  "cells": [
    {
      "cell_type": "markdown",
      "source": [
        "**Exercícios de Estruturas Condicionais em Python**\n",
        "\n",
        "*PUC - Programa de Residência em Tecnologia e Programação Python*\n",
        "\n",
        "Feito por: [Vinicius da Silva Abreu](https://www.linkedin.com/in/vs-abreu/) 👨‍💻 🚀\n",
        "\n",
        "\n",
        "**Prof. José Guilherme Picolo**\n",
        "\n",
        "* [Github](https://github.com/vinnedev)\n",
        "* [Instagram](https://www.instagram.com/vs_abreu/?hl=en)\n",
        "* [Linkedin](https://www.linkedin.com/in/vs-abreu/)\n"
      ],
      "metadata": {
        "id": "Bw_yJvz0W40t"
      }
    },
    {
      "cell_type": "code",
      "source": [
        "# Exercício 8\n",
        "\n",
        "'''\n",
        "Desenvolver um algoritmo e realizar a implementação em Python, para efetuar a leitura do ano\n",
        "de construção do imóvel, do ano atual, calcular a idade do imóvel e calcular o percentual de\n",
        "desconto do IPTU.\n",
        "\n",
        "\n",
        "    if buildYear < 5:\n",
        "        return '0%'\n",
        "    elif buildYear >= 5 and buildYear < 20:\n",
        "        return '15%'\n",
        "    elif buildYear >= 20 and buildYear < 40:\n",
        "        return '25%'\n",
        "    else:\n",
        "        return '30%'\n",
        "\n",
        "'''\n",
        "\n",
        "# % de IPTU é conforme a idade do imóvel\n",
        "# Input ano de construção do imóvel\n",
        "# Obter ano atual sem a necessidade do input\n",
        "\n",
        "import datetime as moment\n",
        "\n",
        "def calculate_iptu(inputYear):\n",
        "    currentYear = moment.datetime.now().year\n",
        "    buildYear = currentYear - inputYear\n",
        "\n",
        "    if inputYear <= 0:\n",
        "      raise ValueError('Os valores deverão ser positivos e maiores que 0.')\n",
        "\n",
        "    if inputYear > currentYear:\n",
        "        raise ValueError('O ano de construção não pode ser maior que o ano atual.')\n",
        "\n",
        "    IPTU = {\n",
        "        (0,5): '0%',\n",
        "        (5, 20): '15%',\n",
        "        (20, 40): '25%',\n",
        "        (40, float('inf')): '30%'\n",
        "        }\n",
        "\n",
        "    for iptuRANGE, classification in IPTU.items():\n",
        "      if buildYear >= iptuRANGE[0] and buildYear < iptuRANGE[1]:\n",
        "        return classification\n",
        "\n",
        "try:\n",
        "    inputYear = int(input('Digite o ano de construção do imóvel: '))\n",
        "    result = calculate_iptu(inputYear)\n",
        "    print(f'O percentual de desconto do IPTU é: {result}')\n",
        "except ValueError as vE:\n",
        "    print(f'ValueError: {vE}')\n",
        "except Exception as e:\n",
        "    print(f'Ocorreu um erro: {e}')\n"
      ],
      "metadata": {
        "colab": {
          "base_uri": "https://localhost:8080/"
        },
        "id": "5DTsDT3-5R35",
        "outputId": "b522e767-ec7d-4bbc-d2c7-41f8e26e28f3"
      },
      "execution_count": 87,
      "outputs": [
        {
          "output_type": "stream",
          "name": "stdout",
          "text": [
            "Digite o ano de construção do imóvel: 2017\n",
            "O percentual de desconto do IPTU é: 15%\n"
          ]
        }
      ]
    },
    {
      "cell_type": "code",
      "source": [
        "# Exercício 9\n",
        "\n",
        "'''\n",
        "Cálculo de IMC:\n",
        "\n",
        "Onde o PESO é em Kg e a ALTURA em metros. O valor do IMC\n",
        "pode ser classificado de acordo com os dados listados na\n",
        "tabela ao lado. Desenvolver um algoritmo e efetuar a\n",
        "implementação em Python, para calcular o IMC e emitir a\n",
        "mensagem com a correspondente classificação.\n",
        "'''\n",
        "# Input de captura em float do peso e altura\n",
        "# Função para cálculo do IMC\n",
        "# Função de classificação de IMC\n",
        "# Valores deverão ser positivos e maiores que 0\n",
        "\n",
        "\n",
        "def calc_imc(inputH, inputKG):\n",
        "    if inputH <= 0 or inputKG <= 0:\n",
        "        raise ValueError('Os valores deverão ser positivos e maiores que 0.')\n",
        "\n",
        "    imc = inputKG / (inputH ** 2)\n",
        "    return define_imc(imc)\n",
        "\n",
        "def define_imc(imcValue):\n",
        "    imc_ranges = {\n",
        "        (0, 18.5): 'Abaixo do Peso',\n",
        "        (18.5, 25): 'Normal',\n",
        "        (25, 30): 'Sobrepeso',\n",
        "        (30, float('inf')): 'Obesidade'\n",
        "    }\n",
        "\n",
        "    for imc_range, classification in imc_ranges.items():\n",
        "        if imcValue >= imc_range[0] and imcValue < imc_range[1]:\n",
        "            return classification\n",
        "\n",
        "    return 'Classificação não encontrada'\n",
        "\n",
        "try:\n",
        "    inputHeight = float(input('Digite a altura em metros: '))\n",
        "    inputWeight = float(input('Digite o peso em quilogramas: '))\n",
        "\n",
        "    result = calc_imc(inputHeight, inputWeight)\n",
        "    print(f'De acordo com os valores informados, você está classificado como: {result}')\n",
        "except ValueError as vE:\n",
        "    print(f'ValueError: {vE}')\n",
        "except Exception as e:\n",
        "    print(f'Ocorreu um erro: {e}')"
      ],
      "metadata": {
        "colab": {
          "base_uri": "https://localhost:8080/"
        },
        "id": "Esuf0l_RGEiw",
        "outputId": "8cb852aa-9b2c-4198-934d-358abd80e019"
      },
      "execution_count": 86,
      "outputs": [
        {
          "output_type": "stream",
          "name": "stdout",
          "text": [
            "Digite a altura em metros: 1.74\n",
            "Digite o peso em quilogramas: 65\n",
            "De acordo com os valores informados, você está classificado como: Normal\n"
          ]
        }
      ]
    },
    {
      "cell_type": "code",
      "source": [
        "# Exercício 10\n",
        "# Números poderão ser positivos e negativos?\n",
        "# Poderão ser float?\n",
        "# Informar se é crescente ou decrescente?\n",
        "\n",
        "'''\n",
        "Desenvolver um algoritmo e efetuar a implementação em Python para ler 3 número e\n",
        "verificar se então em ordem crescente.\n",
        "'''\n",
        "\n",
        "def check_order(num1, num2, num3):\n",
        "  if num1 <= num2 <= num3:\n",
        "    return 'Os números estão em ordem crescente.'\n",
        "  elif num3 <= num2 <= num1:\n",
        "    return 'Os números estão em ordem decrescente.'\n",
        "\n",
        "  return 'Os numeros não seguem uma ordem de classificação especifica.'\n",
        "\n",
        "try:\n",
        "    num1 = int(input('Digite o número 1: '))\n",
        "    num2 = int(input('Digite o número 2: '))\n",
        "    num3 = int(input('Digite o número 3: '))\n",
        "\n",
        "    orderBy = check_order(num1, num2, num3)\n",
        "    print(orderBy)\n",
        "except ValueError as vE:\n",
        "    print(f'ValueError: {vE}')\n",
        "except Exception as e:\n",
        "    print(f'Ocorreu um erro: {e}')"
      ],
      "metadata": {
        "colab": {
          "base_uri": "https://localhost:8080/"
        },
        "id": "khUA0XTqPGiY",
        "outputId": "2f87da1d-cb45-46a1-bd68-f271abed52d0"
      },
      "execution_count": 65,
      "outputs": [
        {
          "output_type": "stream",
          "name": "stdout",
          "text": [
            "Digite o número 1: 1\n",
            "Digite o número 2: 2\n",
            "Digite o número 3: 3\n",
            "Os números estão em ordem crescente.\n"
          ]
        }
      ]
    },
    {
      "cell_type": "code",
      "source": [
        "# Exercício 11\n",
        "\n",
        "'''\n",
        "A Universidade Hogwarts está contratando você para desenvolver um algoritmo e\n",
        "efetuar a implementação em Python para calcular a média dos seus alunos e\n",
        "verificar o nível de frequência.\n",
        "\n",
        "Os alunos realizam duas avaliações: Aval1 e Aval2 , com o mesmo peso.\n",
        "Calcular a média aritmética. Para aprovação os alunos precisam ter pelo\n",
        "menos 75% de presença nas atividades acadêmicas.\n",
        "\n",
        "Utilizar os dados da tabela a seguir para indicar o status acadêmico do aluno.\n",
        "\n",
        "Imprimir um boletim, contendo a nota, o status de frequência e o status acadêmico.\n",
        "'''\n",
        "\n",
        "# Obter nota da prova 1 e 2\n",
        "# Obter frequencia em FLOAT\n",
        "\n",
        "def calculate_average(grade1, grade2):\n",
        "    return (grade1 + grade2) / 2\n",
        "\n",
        "def check_attendance(attendance_percentage):\n",
        "    if attendance_percentage < 75:\n",
        "        return f'Reprovado - {attendance_percentage:.0f}%'\n",
        "    return f'Aprovado - {attendance_percentage:.0f}%'\n",
        "\n",
        "def check_academic_status(average):\n",
        "    if average <= 4.0:\n",
        "        return 'Reprovado'\n",
        "    elif average <= 6.0:\n",
        "        return 'Exame'\n",
        "    return 'Aprovado'\n",
        "\n",
        "try:\n",
        "    grade1 = float(input('Digite a nota da Avaliação 1: '))\n",
        "    grade2 = float(input('Digite a nota da Avaliação 2: '))\n",
        "    attendance_percentage = float(input('Digite a porcentagem de frequência: '))\n",
        "\n",
        "    average = calculate_average(grade1, grade2)\n",
        "    attendance_status = check_attendance(attendance_percentage)\n",
        "    academic_status = check_academic_status(average)\n",
        "\n",
        "    print(f'Nota: {average:.2f}')\n",
        "    print(f'Frequência: {attendance_status}')\n",
        "    print(f'Status Acadêmico: {academic_status}')\n",
        "except ValueError as ve:\n",
        "    print(f'ValueError: {ve}')\n",
        "except Exception as e:\n",
        "    print(f'Ocorreu um erro: {e}')\n",
        "\n",
        "\n",
        "\n"
      ],
      "metadata": {
        "colab": {
          "base_uri": "https://localhost:8080/"
        },
        "id": "StkbKNiuSKeU",
        "outputId": "7643a1fb-9e84-4c7f-de6a-0529bd012b40"
      },
      "execution_count": 88,
      "outputs": [
        {
          "output_type": "stream",
          "name": "stdout",
          "text": [
            "Digite a nota da Avaliação 1: 8\n",
            "Digite a nota da Avaliação 2: 6.8\n",
            "Digite a porcentagem de frequência: 89.4\n",
            "Nota: 7.40\n",
            "Frequência: Aprovado - 89%\n",
            "Status Acadêmico: Aprovado\n"
          ]
        }
      ]
    },
    {
      "cell_type": "code",
      "source": [
        "# Exercício 12\n",
        "\n",
        "'''\n",
        "Desenvolver um algoritmo e efetuar a implementação em Python para calcular o valor\n",
        "da função f(x). Atenção: NÃO É PERMITIDO EFETUAR A DIVISÃO POR ZERO.\n",
        "\n",
        "𝑓(𝑥) = 4 ∗ (𝑥2 − 3) ∗ (𝑥 + 9) / 𝑥\n",
        "'''\n",
        "\n",
        "# Input para obter valor de X\n",
        "# Inteiro ou Float?\n",
        "# Poderá ser negativo?\n",
        "\n",
        "def calcFX(x):\n",
        "  if x == 0:\n",
        "    raise ValueError('O valor de x deverá ser maior que 0.')\n",
        "\n",
        "  return 4 * (x ** 2 - 3) * (x + 9) / x\n",
        "\n",
        "try:\n",
        "    x = float(input('Digite o valor de x: '))\n",
        "\n",
        "    result = calcFX(x)\n",
        "    print(f'O resultado da 𝑓(𝑥), onde 𝑥 = {x} é: {result:.2f}')\n",
        "except ValueError as ve:\n",
        "    print(f'ValueError: {ve}')\n",
        "except Exception as e:\n",
        "    print(f'Ocorreu um erro: {e}')\n"
      ],
      "metadata": {
        "colab": {
          "base_uri": "https://localhost:8080/"
        },
        "id": "i2yUkdzGUQVJ",
        "outputId": "5c1d3200-8d40-46e6-ab55-10c0bfa10d52"
      },
      "execution_count": 80,
      "outputs": [
        {
          "output_type": "stream",
          "name": "stdout",
          "text": [
            "Digite o valor de x: 6\n",
            "O resultado da 𝑓(𝑥), onde 𝑥 = 6.0 é: 330.00\n"
          ]
        }
      ]
    },
    {
      "cell_type": "markdown",
      "source": [
        "**Excercícios de prática para portfólio 👇👇**"
      ],
      "metadata": {
        "id": "ECtpOonCWqRV"
      }
    },
    {
      "cell_type": "code",
      "source": [
        "# Desenvolver um algoritmo para efetuar a leitura de uma\n",
        "# senha numérica, efetuar a sua validação (senha pré-cadastrada)\n",
        "\n",
        "# Quando autorizado retornar: Acesso Permitido\n",
        "# Quando recusado retornar: Acesso Negado\n",
        "\n",
        "# Senha Padrão: 2023\n",
        "\n",
        "try:\n",
        "  savedPassword = 2023\n",
        "  inputPassword = int(input('Informe a senha para autenticar-se: '))\n",
        "\n",
        "  if(savedPassword == inputPassword):\n",
        "    print('ACESSO PERMITIDO')\n",
        "  else:\n",
        "   print('ACESSO NEGADO')\n",
        "\n",
        "except ValueError:\n",
        "    print('O valor de entrada deverá ser senha numérica.')\n",
        "except Exception as e:\n",
        "    print(f'Ocorreu um erro: {e}')\n",
        "\n"
      ],
      "metadata": {
        "colab": {
          "base_uri": "https://localhost:8080/"
        },
        "id": "mmvKCrM8qPjW",
        "outputId": "d3aca7ca-7f4f-4550-ec6d-826672475b6d"
      },
      "execution_count": null,
      "outputs": [
        {
          "output_type": "stream",
          "name": "stdout",
          "text": [
            "Informe a senha para autenticar-se: 2023\n",
            "ACESSO PERMITIDO\n"
          ]
        }
      ]
    },
    {
      "cell_type": "code",
      "source": [
        "# Desenvolver um algoritmo e efetuar a implementação em Python, para ler o\n",
        "# comprimento dos 3 lados de um triângulo e indicar a sua classificação:\n",
        "\n",
        "# Triângulo Equilátero: possui os 3 lados iguais\n",
        "# Triângulo Isóscele: possui 2 lados iguais.\n",
        "# Triângulo Escaleno: possui 3 lados diferentes.\n",
        "\n",
        "# Validar se os valores são maiores que 0\n",
        "# Classificar triângulos\n",
        "# Tratar possível erro (entrada)\n",
        "\n",
        "def identifyTriangle(l1,l2,l3):\n",
        "  if l1 == l2 and l2 == l3:\n",
        "    return 'Triângulo Equilátero'\n",
        "  elif l1 == l2 or l2 == l3 or l3 == l1:\n",
        "    return 'Triângulo Isóscele'\n",
        "  else:\n",
        "    return 'Triângulo Escaleno'\n",
        "\n",
        "\n",
        "try:\n",
        "  l1 = float(input('Digite o valor do Lado 1 do Triângulo: '))\n",
        "  l2 = float(input('Digite o valor do Lado 2 do Triângulo: '))\n",
        "  l3 = float(input('Digite o valor do Lado 3 do Triângulo: '))\n",
        "\n",
        "  if l1 > 0 and l2 > 0 and l3 > 0:\n",
        "    print(f'Com base nos valores informados é um {identifyTriangle(l1,l2,l3)}')\n",
        "  else:\n",
        "    print('Os comprimentos dos lados do triângulo devem ser positivos.')\n",
        "\n",
        "except ValueError:\n",
        "    print('O valor de entrada deverá ser senha numérica.')\n",
        "except Exception as e:\n",
        "    print(f'Ocorreu um erro: {e}')\n"
      ],
      "metadata": {
        "colab": {
          "base_uri": "https://localhost:8080/"
        },
        "id": "XJYrVdptsHOB",
        "outputId": "138c42f5-c825-4e18-82a0-7be1bd58dc7d"
      },
      "execution_count": null,
      "outputs": [
        {
          "output_type": "stream",
          "name": "stdout",
          "text": [
            "Digite o valor do Lado 1 do Triângulo: 1\n",
            "Digite o valor do Lado 2 do Triângulo: 2\n",
            "Digite o valor do Lado 3 do Triângulo: 3\n",
            "Com base nos valores informados é um Triângulo Escaleno\n"
          ]
        }
      ]
    },
    {
      "cell_type": "code",
      "source": [
        "'''\n",
        "Tarefa:\n",
        "\n",
        "Instituto Rapodopolense de Computação o cálculo da nota final de uma disciplina\n",
        "é efetuado com a ponderação das notas bimestrais parciais. No semestre o aluno\n",
        "realiza duas provas (Prova1 e Prova2). A média final é calculada ponderando os\n",
        "valores com os2 pesos Peso1 para a prova 1 e Peso2 para a prova 2:\n",
        "'''\n",
        "\n",
        "# O aluno poderá zerar a prova\n",
        "# Não podera receber string no input\n",
        "# Cálculo: (nota1 * peso1 / nota2 * peso2) / (p1 + p2)\n",
        "# O peso deverá ser int\n",
        "# A nota poderá ser float\n",
        "\n",
        "import random\n",
        "\n",
        "\n",
        "def calcMedia(n1, n2, p1, p2):\n",
        "    if p1 > 0 and p2 > 0:\n",
        "        return (n1 * p1 + n2 * p2) / (p1 + p2)\n",
        "    else:\n",
        "        raise ValueError('Os pesos das provas devem ser maiores que 0.')\n",
        "\n",
        "def isApproved(media):\n",
        "    if media < 5:\n",
        "        return 'Reprovado'\n",
        "    elif 5 <= media < 8:\n",
        "        return 'Aprovado'\n",
        "    elif 8 <= media < 9:\n",
        "        return 'PARABÉNS, O DESEMPENHO FOI MUITO BOM!'\n",
        "    else:\n",
        "        return 'PARABÉNS VOCÊ FOI APROVADO COM LOUVOR!'\n",
        "\n",
        "def getValues():\n",
        "  # Peso padrão das provas\n",
        "    p1 = 10\n",
        "    p2 = 10\n",
        "\n",
        "    if useRandomValues:\n",
        "        n1 = random.uniform(0, 10)\n",
        "        n2 = random.uniform(0, 10)\n",
        "    else:\n",
        "      n1 = float(input('Digite a nota da 1ª prova: '))\n",
        "      n2 = float(input('Digite a nota da 2ª prova: '))\n",
        "\n",
        "    return n1, n2, p1, p2\n",
        "\n",
        "try:\n",
        "    useRandomValues = False  # Valores aleatórios para gerar média\n",
        "\n",
        "    n1, n2, p1, p2 = getValues()\n",
        "\n",
        "    media = calcMedia(n1, n2, p1, p2)\n",
        "    result = isApproved(media)\n",
        "\n",
        "    print(f'Média = {media:.2f}')\n",
        "    print(result)\n",
        "\n",
        "except ValueError as vE:\n",
        "    print(f'ValueError: {vE}')\n",
        "except Exception as e:\n",
        "    print(f'Ocorreu um erro: {e}')\n",
        "\n"
      ],
      "metadata": {
        "colab": {
          "base_uri": "https://localhost:8080/"
        },
        "id": "Tcugy10qwcju",
        "outputId": "f3a2e5ba-2216-4015-948f-cd33c50e7a4b"
      },
      "execution_count": null,
      "outputs": [
        {
          "output_type": "stream",
          "name": "stdout",
          "text": [
            "Digite a nota da 1ª prova: 5\n",
            "Digite a nota da 2ª prova: 5\n",
            "Média = 5.00\n",
            "Aprovado\n"
          ]
        }
      ]
    }
  ]
}