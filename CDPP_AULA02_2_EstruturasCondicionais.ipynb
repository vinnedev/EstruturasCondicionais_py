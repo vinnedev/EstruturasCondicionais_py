{
  "nbformat": 4,
  "nbformat_minor": 0,
  "metadata": {
    "colab": {
      "provenance": []
    },
    "kernelspec": {
      "name": "python3",
      "display_name": "Python 3"
    },
    "language_info": {
      "name": "python"
    }
  },
  "cells": [
    {
      "cell_type": "code",
      "source": [
        "# Desenvolver um algoritmo para efetuar a leitura de uma\n",
        "# senha numérica, efetuar a sua validação (senha pré-cadastrada)\n",
        "\n",
        "# Quando autorizado retornar: Acesso Permitido\n",
        "# Quando recusado retornar: Acesso Negado\n",
        "\n",
        "# Senha Padrão: 2023\n",
        "\n",
        "try:\n",
        "  savedPassword = 2023\n",
        "  inputPassword = int(input('Informe a senha para autenticar-se: '))\n",
        "\n",
        "  if(savedPassword == inputPassword):\n",
        "    print('ACESSO PERMITIDO')\n",
        "  else:\n",
        "   print('ACESSO NEGADO')\n",
        "\n",
        "except ValueError:\n",
        "    print('O valor de entrada deverá ser senha numérica.')\n",
        "except Exception as e:\n",
        "    print(f'Ocorreu um erro: {e}')\n",
        "\n"
      ],
      "metadata": {
        "colab": {
          "base_uri": "https://localhost:8080/"
        },
        "id": "mmvKCrM8qPjW",
        "outputId": "d3aca7ca-7f4f-4550-ec6d-826672475b6d"
      },
      "execution_count": 78,
      "outputs": [
        {
          "output_type": "stream",
          "name": "stdout",
          "text": [
            "Informe a senha para autenticar-se: 2023\n",
            "ACESSO PERMITIDO\n"
          ]
        }
      ]
    },
    {
      "cell_type": "code",
      "source": [
        "# Desenvolver um algoritmo e efetuar a implementação em Python, para ler o\n",
        "# comprimento dos 3 lados de um triângulo e indicar a sua classificação:\n",
        "\n",
        "# Triângulo Equilátero: possui os 3 lados iguais\n",
        "# Triângulo Isóscele: possui 2 lados iguais.\n",
        "# Triângulo Escaleno: possui 3 lados diferentes.\n",
        "\n",
        "# Validar se os valores são maiores que 0\n",
        "# Classificar triângulos\n",
        "# Tratar possível erro (entrada)\n",
        "\n",
        "def identifyTriangle(l1,l2,l3):\n",
        "  if l1 == l2 and l2 == l3:\n",
        "    return 'Triângulo Equilátero'\n",
        "  elif l1 == l2 or l2 == l3 or l3 == l1:\n",
        "    return 'Triângulo Isóscele'\n",
        "  else:\n",
        "    return 'Triângulo Escaleno'\n",
        "\n",
        "\n",
        "try:\n",
        "  l1 = float(input('Digite o valor do Lado 1 do Triângulo: '))\n",
        "  l2 = float(input('Digite o valor do Lado 2 do Triângulo: '))\n",
        "  l3 = float(input('Digite o valor do Lado 3 do Triângulo: '))\n",
        "\n",
        "  if l1 > 0 and l2 > 0 and l3 > 0:\n",
        "    print(f'Com base nos valores informados é um {identifyTriangle(l1,l2,l3)}')\n",
        "  else:\n",
        "    print('Os comprimentos dos lados do triângulo devem ser positivos.')\n",
        "\n",
        "except ValueError:\n",
        "    print('O valor de entrada deverá ser senha numérica.')\n",
        "except Exception as e:\n",
        "    print(f'Ocorreu um erro: {e}')\n"
      ],
      "metadata": {
        "colab": {
          "base_uri": "https://localhost:8080/"
        },
        "id": "XJYrVdptsHOB",
        "outputId": "138c42f5-c825-4e18-82a0-7be1bd58dc7d"
      },
      "execution_count": 11,
      "outputs": [
        {
          "output_type": "stream",
          "name": "stdout",
          "text": [
            "Digite o valor do Lado 1 do Triângulo: 1\n",
            "Digite o valor do Lado 2 do Triângulo: 2\n",
            "Digite o valor do Lado 3 do Triângulo: 3\n",
            "Com base nos valores informados é um Triângulo Escaleno\n"
          ]
        }
      ]
    },
    {
      "cell_type": "code",
      "source": [
        "'''\n",
        "Tarefa:\n",
        "\n",
        "Instituto Rapodopolense de Computação o cálculo da nota final de uma disciplina\n",
        "é efetuado com a ponderação das notas bimestrais parciais. No semestre o aluno\n",
        "realiza duas provas (Prova1 e Prova2). A média final é calculada ponderando os\n",
        "valores com os2 pesos Peso1 para a prova 1 e Peso2 para a prova 2:\n",
        "'''\n",
        "\n",
        "# O aluno poderá zerar a prova\n",
        "# Não podera receber string no input\n",
        "# Cálculo: (nota1 * peso1 / nota2 * peso2) / (p1 + p2)\n",
        "# O peso deverá ser int\n",
        "# A nota poderá ser float\n",
        "\n",
        "import random\n",
        "\n",
        "\n",
        "def calcMedia(n1, n2, p1, p2):\n",
        "    if p1 > 0 and p2 > 0:\n",
        "        return (n1 * p1 + n2 * p2) / (p1 + p2)\n",
        "    else:\n",
        "        raise ValueError('Os pesos das provas devem ser maiores que 0.')\n",
        "\n",
        "def isApproved(media):\n",
        "    if media < 5:\n",
        "        return 'Reprovado'\n",
        "    elif 5 <= media < 8:\n",
        "        return 'Aprovado'\n",
        "    elif 8 <= media < 9:\n",
        "        return 'PARABÉNS, O DESEMPENHO FOI MUITO BOM!'\n",
        "    else:\n",
        "        return 'PARABÉNS VOCÊ FOI APROVADO COM LOUVOR!'\n",
        "\n",
        "def getValues():\n",
        "  # Peso padrão das provas\n",
        "    p1 = 10\n",
        "    p2 = 10\n",
        "\n",
        "    if useRandomValues:\n",
        "        n1 = random.uniform(0, 10)\n",
        "        n2 = random.uniform(0, 10)\n",
        "    else:\n",
        "      n1 = float(input('Digite a nota da 1ª prova: '))\n",
        "      n2 = float(input('Digite a nota da 2ª prova: '))\n",
        "\n",
        "    return n1, n2, p1, p2\n",
        "\n",
        "try:\n",
        "    useRandomValues = False  # Valores aleatórios para gerar média\n",
        "\n",
        "    n1, n2, p1, p2 = getValues()\n",
        "\n",
        "    media = calcMedia(n1, n2, p1, p2)\n",
        "    result = isApproved(media)\n",
        "\n",
        "    print(f'Média = {media:.2f}')\n",
        "    print(result)\n",
        "\n",
        "except ValueError as vE:\n",
        "    print(f'ValueError: {vE}')\n",
        "except Exception as e:\n",
        "    print(f'Ocorreu um erro: {e}')\n",
        "\n"
      ],
      "metadata": {
        "colab": {
          "base_uri": "https://localhost:8080/"
        },
        "id": "Tcugy10qwcju",
        "outputId": "f3a2e5ba-2216-4015-948f-cd33c50e7a4b"
      },
      "execution_count": 74,
      "outputs": [
        {
          "output_type": "stream",
          "name": "stdout",
          "text": [
            "Digite a nota da 1ª prova: 5\n",
            "Digite a nota da 2ª prova: 5\n",
            "Média = 5.00\n",
            "Aprovado\n"
          ]
        }
      ]
    }
  ]
}